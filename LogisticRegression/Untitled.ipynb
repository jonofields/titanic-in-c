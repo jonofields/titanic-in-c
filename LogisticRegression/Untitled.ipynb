{
 "cells": [
  {
   "cell_type": "code",
   "execution_count": null,
   "id": "db8246b6-714a-459d-862c-01082aa60641",
   "metadata": {},
   "outputs": [],
   "source": [
    "#include \"LogisticRegression.cpp\"\n",
    "#include <cmath>\n",
    "#include <valarray>\n",
    "#include <vector>\n"
   ]
  },
  {
   "cell_type": "code",
   "execution_count": null,
   "id": "169d97a4-05cc-42fb-be67-385dcc122bca",
   "metadata": {},
   "outputs": [],
   "source": []
  }
 ],
 "metadata": {
  "kernelspec": {
   "display_name": "C++11",
   "language": "C++11",
   "name": "python3102jvsc74a57bd0ed616fbec9700c3441114a344e3dbbb8800c148044c2083885e9f34aed0c8255"
  },
  "language_info": {
   "name": "C++11"
  }
 },
 "nbformat": 4,
 "nbformat_minor": 5
}
