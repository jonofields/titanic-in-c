{
 "cells": [
  {
   "cell_type": "code",
   "execution_count": null,
   "id": "db8246b6-714a-459d-862c-01082aa60641",
   "metadata": {},
   "outputs": [],
   "source": [
    "#include \"LogisticRegression.cpp\"\n",
    "#include <cmath>\n",
    "#include <valarray>\n",
    "#include <vector>"
   ]
  },
  {
   "cell_type": "code",
   "execution_count": null,
   "id": "169d97a4-05cc-42fb-be67-385dcc122bca",
   "metadata": {},
   "outputs": [],
   "source": []
  }
 ],
 "metadata": {
  "kernelspec": {
   "display_name": "C++17",
   "language": "C++17",
   "name": "xcpp17"
  },
  "language_info": {
   "name": ""
  }
 },
 "nbformat": 4,
 "nbformat_minor": 5
}
